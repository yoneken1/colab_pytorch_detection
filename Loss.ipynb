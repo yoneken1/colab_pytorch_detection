{
  "nbformat": 4,
  "nbformat_minor": 0,
  "metadata": {
    "colab": {
      "name": "Loss.ipynb",
      "version": "0.3.2",
      "provenance": [],
      "collapsed_sections": [],
      "include_colab_link": true
    },
    "kernelspec": {
      "name": "python3",
      "display_name": "Python 3"
    },
    "accelerator": "GPU"
  },
  "cells": [
    {
      "cell_type": "markdown",
      "metadata": {
        "id": "view-in-github",
        "colab_type": "text"
      },
      "source": [
        "<a href=\"https://colab.research.google.com/github/yoneken1/colab_pytorch_detection/blob/master/Loss.ipynb\" target=\"_parent\"><img src=\"https://colab.research.google.com/assets/colab-badge.svg\" alt=\"Open In Colab\"/></a>"
      ]
    },
    {
      "metadata": {
        "id": "0oFaR9XaOQyJ",
        "colab_type": "text"
      },
      "cell_type": "markdown",
      "source": [
        "smooth_l1_loss\n",
        "> original:https://github.com/chenyuntc/simple-faster-rcnn-pytorch"
      ]
    },
    {
      "metadata": {
        "id": "IPIWUeJOImQT",
        "colab_type": "code",
        "outputId": "ebbcaa7d-3669-4b52-991c-5fe0fdced936",
        "colab": {
          "base_uri": "https://localhost:8080/",
          "height": 289
        }
      },
      "cell_type": "code",
      "source": [
        "import torch\n",
        "from torch import nn\n",
        "\n",
        "def smooth_l1_loss(x, t, in_weight, sigma):\n",
        "    sigma2 = sigma ** 2\n",
        "    diff = in_weight * (x - t)\n",
        "    abs_diff = diff.abs()\n",
        "    flag = (abs_diff.data < (1. / sigma2)).float().detach()\n",
        "    y = (flag * (sigma2 / 2.) * (diff ** 2) +\n",
        "         (1 - flag) * (abs_diff - 0.5 / sigma2))\n",
        "    return y\n",
        "  \n",
        "def test():\n",
        "  x = torch.randn([16,4])\n",
        "  t = torch.randn([16,4])\n",
        "  in_weight = torch.zeros((x.size(0),1)).float()\n",
        "  in_weight[0] = 1.\n",
        "  \n",
        "  print(smooth_l1_loss(x,t,in_weight,1.))\n",
        "  \n",
        "test()\n",
        "\n"
      ],
      "execution_count": 0,
      "outputs": [
        {
          "output_type": "stream",
          "text": [
            "tensor([[0.0137, 1.2626, 0.5101, 1.5306],\n",
            "        [0.0000, 0.0000, 0.0000, 0.0000],\n",
            "        [0.0000, 0.0000, 0.0000, 0.0000],\n",
            "        [0.0000, 0.0000, 0.0000, 0.0000],\n",
            "        [0.0000, 0.0000, 0.0000, 0.0000],\n",
            "        [0.0000, 0.0000, 0.0000, 0.0000],\n",
            "        [0.0000, 0.0000, 0.0000, 0.0000],\n",
            "        [0.0000, 0.0000, 0.0000, 0.0000],\n",
            "        [0.0000, 0.0000, 0.0000, 0.0000],\n",
            "        [0.0000, 0.0000, 0.0000, 0.0000],\n",
            "        [0.0000, 0.0000, 0.0000, 0.0000],\n",
            "        [0.0000, 0.0000, 0.0000, 0.0000],\n",
            "        [0.0000, 0.0000, 0.0000, 0.0000],\n",
            "        [0.0000, 0.0000, 0.0000, 0.0000],\n",
            "        [0.0000, 0.0000, 0.0000, 0.0000],\n",
            "        [0.0000, 0.0000, 0.0000, 0.0000]])\n"
          ],
          "name": "stdout"
        }
      ]
    },
    {
      "metadata": {
        "id": "TiAYhgR0TyOL",
        "colab_type": "code",
        "outputId": "2bafee9c-60b2-4265-926e-54e2db9e2ac4",
        "colab": {
          "base_uri": "https://localhost:8080/",
          "height": 102
        }
      },
      "cell_type": "code",
      "source": [
        "class DetectionLoss(nn.Module):\n",
        "  \n",
        "  def __init__(self, class_agnostic=False):\n",
        "    super(DetectionLoss, self).__init__()\n",
        "    self.loc_sigma = 1.\n",
        "    self.class_agnostic = class_agnostic\n",
        "    self.cls_loss = torch.nn.CrossEntropyLoss(ignore_index=-1,reduction='sum')\n",
        "    \n",
        "  def forward(self,pred_loc,pred_cls,target_loc,target_cls, loc_weight):\n",
        "    '''Make training target\n",
        "      Args:\n",
        "        pred_loc: (tensor)bounding boxes, sized [N,4].\n",
        "        pred_cls: (tensor) bounding boxes labels, sized [N,num_classes+1]. 0 = background\n",
        "        target_loc: (tensor) boxes, sized [N,4].\n",
        "        target_cls: (long tensor) labels, sized [N]. 0 = background, -1 = ignore\n",
        "        loc_weight: (tensor) bounding boxes, sized [N,1].\n",
        "      Return:\n",
        "        (tensor) loc_loss, sized [N].\n",
        "        (tensor) cls_loss, sized [N].\n",
        "        \n",
        "  \n",
        "    '''\n",
        "    if not self.class_agnostic:\n",
        "      use_ids = (loc_weight > 0).view(-1)\n",
        "      loc_mask = torch.zeros((pred_loc.size(0),int(pred_loc.size(1)/4),4)).byte().to(device)\n",
        "      loc_mask[use_ids,target_cls[use_ids]-1] = 1\n",
        "      loc_mask[use_ids==0,0] = 1\n",
        "      loc_mask = loc_mask.view(pred_loc.size(0),-1)\n",
        "      pred_loc = pred_loc[loc_mask].view(pred_loc.size(0),4)\n",
        "    \n",
        "    loc_loss = smooth_l1_loss(pred_loc,target_loc,loc_weight,self.loc_sigma).sum()\n",
        "    cls_loss = self.cls_loss(pred_cls,target_cls)\n",
        "    return loc_loss,cls_loss\n",
        "\n",
        "device=torch.device('cuda') \n",
        "  \n",
        "def test():\n",
        "  loss = DetectionLoss().to(device)\n",
        "  pred_loc = torch.randn((16,4)).to(device)\n",
        "  target_loc = torch.randn((16,4)).to(device)\n",
        "  loc_weight = torch.zeros((pred_loc.size(0),1)).float().to(device)\n",
        "  loc_weight[0] = 1.\n",
        "  pred_cls = torch.randn((16,8)).float().to(device)\n",
        "  target_cls = torch.tensor([0,1,2,3,4,5,6,7,-1,-1,-1,-1,-1,-1,-1,-1]).long().to(device)\n",
        "  \n",
        "  print(loss(pred_loc,pred_cls,target_loc,target_cls, loc_weight))\n",
        "  \n",
        "test()"
      ],
      "execution_count": 0,
      "outputs": [
        {
          "output_type": "stream",
          "text": [
            "(tensor([0.8253, 0.0000, 0.0000, 0.0000, 0.0000, 0.0000, 0.0000, 0.0000, 0.0000,\n",
            "        0.0000, 0.0000, 0.0000, 0.0000, 0.0000, 0.0000, 0.0000],\n",
            "       device='cuda:0'), tensor([1.4757, 1.1150, 3.1874, 1.1488, 3.1614, 3.0009, 2.6451, 2.0399, 0.0000,\n",
            "        0.0000, 0.0000, 0.0000, 0.0000, 0.0000, 0.0000, 0.0000],\n",
            "       device='cuda:0'))\n"
          ],
          "name": "stdout"
        }
      ]
    },
    {
      "metadata": {
        "id": "bvJOJH89JWVN",
        "colab_type": "code",
        "colab": {}
      },
      "cell_type": "code",
      "source": [
        "def calc_detection_loss(loss, pred_loc, pred_cls, target_loc, target_cls, pos_ids, neg_ids,\n",
        "                       difficult_ids=None):\n",
        "  \n",
        "  #create loc weight. 1:positive 0:others\n",
        "  loc_weight = torch.zeros((pred_loc.size(0),1)).float().to(device)\n",
        "  if(pos_ids.size(0)>0):\n",
        "    loc_weight[pos_ids] = 1.\n",
        "  if( (difficult_ids is not None) & (difficult_ids.size(0) > 0)):\n",
        "    loc_weight[difficult_ids] *= 0.01\n",
        "  \n",
        "  #create target cls for loss 0:negative, -1:ignore, 1 to num_classes:positive class label + 1\n",
        "  target_cls_for_loss = torch.Tensor((target_cls.size(0))).long().fill_(-1.).to(device)\n",
        "  if(neg_ids.size(0)>0):\n",
        "    target_cls_for_loss[neg_ids] = 0\n",
        "  if(pos_ids.size(0)>0):\n",
        "    target_cls_for_loss[pos_ids] = target_cls[pos_ids] + 1\n",
        "    \n",
        "  loc_loss, cls_loss = loss(pred_loc,pred_cls,target_loc,target_cls_for_loss, loc_weight)\n",
        "  \n",
        "  return loc_loss, cls_loss\n",
        "   \n",
        "#device = torch.device('cpu')\n",
        "  \n",
        "def test():\n",
        "  \n",
        "  loss = DetectionLoss().to(device)\n",
        "  pred_loc = torch.randn((16,4)).to(device)\n",
        "  pred_cls = torch.randn((16,9)).float().to(device)\n",
        "  target_loc = torch.randn((16,4)).to(device)\n",
        "  target_cls = torch.tensor([0,1,2,3,4,5,6,7,0,1,2,3,4,5,6,7]).long().to(device)\n",
        "  pos_ids = torch.tensor([0,1,2]).to(device)\n",
        "  neg_ids = torch.tensor([3,4,5]).to(device)\n",
        "  loc_loss, cls_loss = calc_detection_loss(loss, pred_loc, pred_cls, target_loc, target_cls, pos_ids, neg_ids)  \n",
        "  \n",
        "  print(loc_loss)\n",
        "  print(cls_loss)\n",
        "\n",
        "test()\n",
        "  \n",
        "  "
      ],
      "execution_count": 0,
      "outputs": []
    },
    {
      "metadata": {
        "id": "eCc7eHyVawn8",
        "colab_type": "code",
        "colab": {}
      },
      "cell_type": "code",
      "source": [
        ""
      ],
      "execution_count": 0,
      "outputs": []
    }
  ]
}